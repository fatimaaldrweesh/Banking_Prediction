{
 "cells": [
  {
   "cell_type": "code",
   "execution_count": 36,
   "id": "8b0f8367",
   "metadata": {},
   "outputs": [],
   "source": [
    "import numpy as np\n",
    "import pandas as pd\n",
    "import matplotlib.pyplot as plt\n",
    "import seaborn as sns\n",
    "import re\n",
    "from datetime import datetime \n",
    "from time import time\n",
    "from sklearn.preprocessing import OrdinalEncoder ,OneHotEncoder\n",
    "from numpy import array\n",
    "from numpy import asarray\n",
    "from sklearn.preprocessing import StandardScaler\n",
    "import xgboost as xgb\n",
    "from scipy import stats"
   ]
  },
  {
   "cell_type": "code",
   "execution_count": 37,
   "id": "9bc3d1f1",
   "metadata": {},
   "outputs": [
    {
     "data": {
      "text/html": [
       "<div>\n",
       "<style scoped>\n",
       "    .dataframe tbody tr th:only-of-type {\n",
       "        vertical-align: middle;\n",
       "    }\n",
       "\n",
       "    .dataframe tbody tr th {\n",
       "        vertical-align: top;\n",
       "    }\n",
       "\n",
       "    .dataframe thead th {\n",
       "        text-align: right;\n",
       "    }\n",
       "</style>\n",
       "<table border=\"1\" class=\"dataframe\">\n",
       "  <thead>\n",
       "    <tr style=\"text-align: right;\">\n",
       "      <th></th>\n",
       "      <th>Unnamed: 0</th>\n",
       "      <th>id</th>\n",
       "      <th>age</th>\n",
       "      <th>job</th>\n",
       "      <th>marital</th>\n",
       "      <th>education</th>\n",
       "      <th>default</th>\n",
       "      <th>balance</th>\n",
       "      <th>housing</th>\n",
       "      <th>loan</th>\n",
       "      <th>contact</th>\n",
       "      <th>day</th>\n",
       "      <th>month</th>\n",
       "      <th>duration</th>\n",
       "      <th>campaign</th>\n",
       "      <th>pdays</th>\n",
       "      <th>previous</th>\n",
       "      <th>poutcome</th>\n",
       "      <th>Target</th>\n",
       "    </tr>\n",
       "  </thead>\n",
       "  <tbody>\n",
       "    <tr>\n",
       "      <th>0</th>\n",
       "      <td>56963</td>\n",
       "      <td>31963</td>\n",
       "      <td>47</td>\n",
       "      <td>blue-collar</td>\n",
       "      <td>married</td>\n",
       "      <td>basic.9y</td>\n",
       "      <td>no</td>\n",
       "      <td>NaN</td>\n",
       "      <td>no</td>\n",
       "      <td>yes</td>\n",
       "      <td>cellular</td>\n",
       "      <td>apr</td>\n",
       "      <td>fri</td>\n",
       "      <td>583</td>\n",
       "      <td>2</td>\n",
       "      <td>999</td>\n",
       "      <td>1</td>\n",
       "      <td>failure</td>\n",
       "      <td>no</td>\n",
       "    </tr>\n",
       "    <tr>\n",
       "      <th>1</th>\n",
       "      <td>31753</td>\n",
       "      <td>21378</td>\n",
       "      <td>48</td>\n",
       "      <td>management</td>\n",
       "      <td>divorced</td>\n",
       "      <td>tertiary</td>\n",
       "      <td>no</td>\n",
       "      <td>351.0</td>\n",
       "      <td>yes</td>\n",
       "      <td>no</td>\n",
       "      <td>cellular</td>\n",
       "      <td>7</td>\n",
       "      <td>apr</td>\n",
       "      <td>725</td>\n",
       "      <td>3</td>\n",
       "      <td>-1</td>\n",
       "      <td>0</td>\n",
       "      <td>unknown</td>\n",
       "      <td>no</td>\n",
       "    </tr>\n",
       "    <tr>\n",
       "      <th>2</th>\n",
       "      <td>60854</td>\n",
       "      <td>17084</td>\n",
       "      <td>38</td>\n",
       "      <td>technician</td>\n",
       "      <td>single</td>\n",
       "      <td>high.school</td>\n",
       "      <td>no</td>\n",
       "      <td>NaN</td>\n",
       "      <td>no</td>\n",
       "      <td>no</td>\n",
       "      <td>cellular</td>\n",
       "      <td>aug</td>\n",
       "      <td>wed</td>\n",
       "      <td>74</td>\n",
       "      <td>2</td>\n",
       "      <td>999</td>\n",
       "      <td>0</td>\n",
       "      <td>nonexistent</td>\n",
       "      <td>no</td>\n",
       "    </tr>\n",
       "    <tr>\n",
       "      <th>3</th>\n",
       "      <td>34207</td>\n",
       "      <td>81693</td>\n",
       "      <td>50</td>\n",
       "      <td>management</td>\n",
       "      <td>divorced</td>\n",
       "      <td>tertiary</td>\n",
       "      <td>no</td>\n",
       "      <td>1270.0</td>\n",
       "      <td>yes</td>\n",
       "      <td>no</td>\n",
       "      <td>cellular</td>\n",
       "      <td>4</td>\n",
       "      <td>may</td>\n",
       "      <td>24</td>\n",
       "      <td>3</td>\n",
       "      <td>-1</td>\n",
       "      <td>0</td>\n",
       "      <td>unknown</td>\n",
       "      <td>no</td>\n",
       "    </tr>\n",
       "    <tr>\n",
       "      <th>4</th>\n",
       "      <td>73066</td>\n",
       "      <td>63978</td>\n",
       "      <td>54</td>\n",
       "      <td>self-employed</td>\n",
       "      <td>married</td>\n",
       "      <td>high.school</td>\n",
       "      <td>no</td>\n",
       "      <td>NaN</td>\n",
       "      <td>yes</td>\n",
       "      <td>yes</td>\n",
       "      <td>cellular</td>\n",
       "      <td>aug</td>\n",
       "      <td>thu</td>\n",
       "      <td>904</td>\n",
       "      <td>3</td>\n",
       "      <td>999</td>\n",
       "      <td>0</td>\n",
       "      <td>nonexistent</td>\n",
       "      <td>yes</td>\n",
       "    </tr>\n",
       "  </tbody>\n",
       "</table>\n",
       "</div>"
      ],
      "text/plain": [
       "   Unnamed: 0     id  age            job   marital    education default  \\\n",
       "0       56963  31963   47    blue-collar   married     basic.9y      no   \n",
       "1       31753  21378   48     management  divorced     tertiary      no   \n",
       "2       60854  17084   38     technician    single  high.school      no   \n",
       "3       34207  81693   50     management  divorced     tertiary      no   \n",
       "4       73066  63978   54  self-employed   married  high.school      no   \n",
       "\n",
       "   balance housing loan   contact  day month  duration  campaign  pdays  \\\n",
       "0      NaN      no  yes  cellular  apr   fri       583         2    999   \n",
       "1    351.0     yes   no  cellular    7   apr       725         3     -1   \n",
       "2      NaN      no   no  cellular  aug   wed        74         2    999   \n",
       "3   1270.0     yes   no  cellular    4   may        24         3     -1   \n",
       "4      NaN     yes  yes  cellular  aug   thu       904         3    999   \n",
       "\n",
       "   previous     poutcome Target  \n",
       "0         1      failure     no  \n",
       "1         0      unknown     no  \n",
       "2         0  nonexistent     no  \n",
       "3         0      unknown     no  \n",
       "4         0  nonexistent    yes  "
      ]
     },
     "execution_count": 37,
     "metadata": {},
     "output_type": "execute_result"
    }
   ],
   "source": [
    "train_data=pd.read_csv(\"Train-Set.csv\\\\Train-Set.csv\")\n",
    "test_data=pd.read_csv(\"Test-Set.csv\\\\Test-Set.csv\")\n",
    "train_data.head(5)"
   ]
  },
  {
   "cell_type": "code",
   "execution_count": 5,
   "id": "e3e4aefb",
   "metadata": {},
   "outputs": [
    {
     "name": "stdout",
     "output_type": "stream",
     "text": [
      "<class 'pandas.core.frame.DataFrame'>\n",
      "RangeIndex: 54712 entries, 0 to 54711\n",
      "Data columns (total 19 columns):\n",
      " #   Column      Non-Null Count  Dtype  \n",
      "---  ------      --------------  -----  \n",
      " 0   Unnamed: 0  54712 non-null  int64  \n",
      " 1   id          54712 non-null  int64  \n",
      " 2   age         54712 non-null  int64  \n",
      " 3   job         54712 non-null  object \n",
      " 4   marital     54712 non-null  object \n",
      " 5   education   54712 non-null  object \n",
      " 6   default     54712 non-null  object \n",
      " 7   balance     31842 non-null  float64\n",
      " 8   housing     54712 non-null  object \n",
      " 9   loan        54712 non-null  object \n",
      " 10  contact     54712 non-null  object \n",
      " 11  day         54712 non-null  object \n",
      " 12  month       54712 non-null  object \n",
      " 13  duration    54712 non-null  int64  \n",
      " 14  campaign    54712 non-null  int64  \n",
      " 15  pdays       54712 non-null  int64  \n",
      " 16  previous    54712 non-null  int64  \n",
      " 17  poutcome    54712 non-null  object \n",
      " 18  Target      54712 non-null  object \n",
      "dtypes: float64(1), int64(7), object(11)\n",
      "memory usage: 7.9+ MB\n"
     ]
    }
   ],
   "source": [
    "train_data.info()"
   ]
  },
  {
   "cell_type": "code",
   "execution_count": 20,
   "id": "82ed67d2",
   "metadata": {},
   "outputs": [
    {
     "data": {
      "text/plain": [
       "no     48433\n",
       "yes     6279\n",
       "Name: Target, dtype: int64"
      ]
     },
     "execution_count": 20,
     "metadata": {},
     "output_type": "execute_result"
    }
   ],
   "source": [
    "train_data['Target'].value_counts()"
   ]
  },
  {
   "cell_type": "markdown",
   "id": "44cd7d63",
   "metadata": {},
   "source": [
    "the data is unbalanced"
   ]
  },
  {
   "cell_type": "code",
   "execution_count": 7,
   "id": "5d853e78",
   "metadata": {},
   "outputs": [
    {
     "data": {
      "text/plain": [
       "blue-collar      12042\n",
       "admin.            9346\n",
       "technician        9122\n",
       "management        8292\n",
       "services          5148\n",
       "retired           2557\n",
       "self-employed     1883\n",
       "entrepreneur      1876\n",
       "unemployed        1463\n",
       "housemaid         1457\n",
       "student           1150\n",
       "unknown            376\n",
       "Name: job, dtype: int64"
      ]
     },
     "execution_count": 7,
     "metadata": {},
     "output_type": "execute_result"
    }
   ],
   "source": [
    "train_data['job'].value_counts()"
   ]
  },
  {
   "cell_type": "code",
   "execution_count": 8,
   "id": "1ce2ac2f",
   "metadata": {},
   "outputs": [
    {
     "data": {
      "text/plain": [
       "married     33095\n",
       "single      15362\n",
       "divorced     6209\n",
       "unknown        46\n",
       "Name: marital, dtype: int64"
      ]
     },
     "execution_count": 8,
     "metadata": {},
     "output_type": "execute_result"
    }
   ],
   "source": [
    "train_data['marital'].value_counts()"
   ]
  },
  {
   "cell_type": "code",
   "execution_count": 9,
   "id": "bdd6d7be",
   "metadata": {},
   "outputs": [
    {
     "data": {
      "text/plain": [
       "secondary              16357\n",
       "tertiary                9313\n",
       "university.degree       6741\n",
       "high.school             5292\n",
       "primary                 4854\n",
       "basic.9y                3380\n",
       "professional.course     2925\n",
       "unknown                 2276\n",
       "basic.4y                2256\n",
       "basic.6y                1306\n",
       "illiterate                12\n",
       "Name: education, dtype: int64"
      ]
     },
     "execution_count": 9,
     "metadata": {},
     "output_type": "execute_result"
    }
   ],
   "source": [
    "train_data['education'].value_counts()"
   ]
  },
  {
   "cell_type": "code",
   "execution_count": 10,
   "id": "b8f9c373",
   "metadata": {},
   "outputs": [
    {
     "data": {
      "text/plain": [
       "yes        29666\n",
       "no         24503\n",
       "unknown      543\n",
       "Name: housing, dtype: int64"
      ]
     },
     "execution_count": 10,
     "metadata": {},
     "output_type": "execute_result"
    }
   ],
   "source": [
    "train_data['housing'].value_counts()"
   ]
  },
  {
   "cell_type": "code",
   "execution_count": 12,
   "id": "4a40e089",
   "metadata": {},
   "outputs": [
    {
     "data": {
      "text/plain": [
       "cellular     35134\n",
       "telephone    10424\n",
       "unknown       9154\n",
       "Name: contact, dtype: int64"
      ]
     },
     "execution_count": 12,
     "metadata": {},
     "output_type": "execute_result"
    }
   ],
   "source": [
    "train_data['contact'].value_counts()"
   ]
  },
  {
   "cell_type": "code",
   "execution_count": 11,
   "id": "4c0b9258",
   "metadata": {},
   "outputs": [
    {
     "data": {
      "text/plain": [
       "no         45564\n",
       "yes         8605\n",
       "unknown      543\n",
       "Name: loan, dtype: int64"
      ]
     },
     "execution_count": 11,
     "metadata": {},
     "output_type": "execute_result"
    }
   ],
   "source": [
    "train_data['loan'].value_counts()"
   ]
  },
  {
   "cell_type": "code",
   "execution_count": 40,
   "id": "be4cde92",
   "metadata": {},
   "outputs": [
    {
     "data": {
      "text/plain": [
       "Series([], Name: balance, dtype: float64)"
      ]
     },
     "execution_count": 40,
     "metadata": {},
     "output_type": "execute_result"
    }
   ],
   "source": [
    "train_data['balance'][train_data['balance']==None]"
   ]
  },
  {
   "cell_type": "code",
   "execution_count": null,
   "id": "a737ef5b",
   "metadata": {},
   "outputs": [],
   "source": []
  },
  {
   "cell_type": "code",
   "execution_count": null,
   "id": "793268e2",
   "metadata": {},
   "outputs": [],
   "source": []
  },
  {
   "cell_type": "code",
   "execution_count": null,
   "id": "b8c9047f",
   "metadata": {},
   "outputs": [],
   "source": []
  },
  {
   "cell_type": "code",
   "execution_count": null,
   "id": "c4ff029b",
   "metadata": {},
   "outputs": [],
   "source": []
  },
  {
   "cell_type": "code",
   "execution_count": null,
   "id": "dcd53bbe",
   "metadata": {},
   "outputs": [],
   "source": []
  },
  {
   "cell_type": "code",
   "execution_count": 24,
   "id": "f0ccb8e3",
   "metadata": {},
   "outputs": [],
   "source": [
    "\n",
    "columns_to_remove = ['Unnamed: 0', 'id', 'poutcome', 'day', 'month']\n",
    "\n",
    "# Using pop() in a loop to remove multiple columns\n",
    "train_data = train_data.drop(columns=columns_to_remove)\n",
    "\n",
    "#drop column from test data\n",
    "test_data=test_data.drop(columns=columns_to_remove)\n",
    "\n",
    "\n",
    "train_data=train_data.drop_duplicates()"
   ]
  },
  {
   "cell_type": "code",
   "execution_count": 4,
   "id": "5ff9dda1",
   "metadata": {},
   "outputs": [
    {
     "name": "stdout",
     "output_type": "stream",
     "text": [
      "Unnamed: 0        0\n",
      "id                0\n",
      "age               0\n",
      "job               0\n",
      "marital           0\n",
      "education         0\n",
      "default           0\n",
      "balance       22870\n",
      "housing           0\n",
      "loan              0\n",
      "contact           0\n",
      "day               0\n",
      "month             0\n",
      "duration          0\n",
      "campaign          0\n",
      "pdays             0\n",
      "previous          0\n",
      "poutcome          0\n",
      "Target            0\n",
      "dtype: int64 \n",
      "\n",
      "Unnamed: 0        0\n",
      "id                0\n",
      "age               0\n",
      "job               0\n",
      "marital           0\n",
      "education         0\n",
      "default           0\n",
      "balance       10080\n",
      "housing           0\n",
      "loan              0\n",
      "contact           0\n",
      "day               0\n",
      "month             0\n",
      "duration          0\n",
      "campaign          0\n",
      "pdays             0\n",
      "previous          0\n",
      "poutcome          0\n",
      "dtype: int64\n"
     ]
    }
   ],
   "source": [
    "print(train_data.isna().sum(),'\\n')\n",
    "print(test_data.isna().sum())"
   ]
  }
 ],
 "metadata": {
  "kernelspec": {
   "display_name": "Python 3 (ipykernel)",
   "language": "python",
   "name": "python3"
  },
  "language_info": {
   "codemirror_mode": {
    "name": "ipython",
    "version": 3
   },
   "file_extension": ".py",
   "mimetype": "text/x-python",
   "name": "python",
   "nbconvert_exporter": "python",
   "pygments_lexer": "ipython3",
   "version": "3.9.13"
  }
 },
 "nbformat": 4,
 "nbformat_minor": 5
}
