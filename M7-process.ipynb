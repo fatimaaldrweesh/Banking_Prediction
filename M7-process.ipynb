{
 "cells": [
  {
   "cell_type": "code",
   "execution_count": 492,
   "id": "3e1acb1f",
   "metadata": {},
   "outputs": [],
   "source": [
    "import pandas as pd\n",
    "import numpy as np\n",
    "import matplotlib.pyplot as plt\n",
    "import seaborn as sns \n",
    "\n",
    "import warnings \n",
    "warnings.filterwarnings(\"ignore\")"
   ]
  },
  {
   "cell_type": "code",
   "execution_count": 493,
   "id": "5e6e3ffa",
   "metadata": {},
   "outputs": [],
   "source": [
    "train = pd.read_csv('Train-Set.csv').iloc[:,1:]\n",
    "test =  pd.read_csv('Test-Set.csv').iloc[:,1:]"
   ]
  },
  {
   "cell_type": "code",
   "execution_count": 494,
   "id": "d7a884a0",
   "metadata": {},
   "outputs": [
    {
     "data": {
      "text/plain": [
       "(54712, 18)"
      ]
     },
     "execution_count": 494,
     "metadata": {},
     "output_type": "execute_result"
    }
   ],
   "source": [
    "train.shape"
   ]
  },
  {
   "cell_type": "code",
   "execution_count": 495,
   "id": "00ed2687",
   "metadata": {},
   "outputs": [],
   "source": [
    "# Downsampling function\n",
    "# Downsample the input 'DataFrame' by balancing the class distribution.\n",
    "def returnbalanceData(data,target,min_class):\n",
    "    \n",
    "    classes = dict(data[target].value_counts())\n",
    "    data.reindex()\n",
    "    index = np.array([])\n",
    "    for clas in classes:\n",
    "        class_index = data[data[target] == clas].index\n",
    "        sample=list(np.random.choice(class_index,classes[min_class],replace=False))\n",
    "        \n",
    "        index = np.concatenate((sample,index))\n",
    "        \n",
    "    return data.iloc[index,:]"
   ]
  },
  {
   "cell_type": "code",
   "execution_count": 496,
   "id": "25296ae9",
   "metadata": {},
   "outputs": [],
   "source": [
    "train = returnbalanceData(train,'Target','yes')"
   ]
  },
  {
   "cell_type": "code",
   "execution_count": 497,
   "id": "d664a6ce",
   "metadata": {},
   "outputs": [
    {
     "data": {
      "text/plain": [
       "yes    6279\n",
       "no     6279\n",
       "Name: Target, dtype: int64"
      ]
     },
     "execution_count": 497,
     "metadata": {},
     "output_type": "execute_result"
    }
   ],
   "source": [
    "train.Target.value_counts()"
   ]
  },
  {
   "cell_type": "code",
   "execution_count": 498,
   "id": "53d9d8c5",
   "metadata": {},
   "outputs": [],
   "source": [
    "# Merge the datasets  \n",
    "train['t_type'] = 'train'\n",
    "test['t_type'] = 'test'\n",
    "\n",
    "df = train.append(test, ignore_index=True)"
   ]
  },
  {
   "cell_type": "code",
   "execution_count": 499,
   "id": "18066132",
   "metadata": {},
   "outputs": [
    {
     "data": {
      "text/html": [
       "<div>\n",
       "<style scoped>\n",
       "    .dataframe tbody tr th:only-of-type {\n",
       "        vertical-align: middle;\n",
       "    }\n",
       "\n",
       "    .dataframe tbody tr th {\n",
       "        vertical-align: top;\n",
       "    }\n",
       "\n",
       "    .dataframe thead th {\n",
       "        text-align: right;\n",
       "    }\n",
       "</style>\n",
       "<table border=\"1\" class=\"dataframe\">\n",
       "  <thead>\n",
       "    <tr style=\"text-align: right;\">\n",
       "      <th></th>\n",
       "      <th>id</th>\n",
       "      <th>age</th>\n",
       "      <th>job</th>\n",
       "      <th>marital</th>\n",
       "      <th>education</th>\n",
       "      <th>default</th>\n",
       "      <th>balance</th>\n",
       "      <th>housing</th>\n",
       "      <th>loan</th>\n",
       "      <th>contact</th>\n",
       "      <th>day</th>\n",
       "      <th>month</th>\n",
       "      <th>duration</th>\n",
       "      <th>campaign</th>\n",
       "      <th>pdays</th>\n",
       "      <th>previous</th>\n",
       "      <th>poutcome</th>\n",
       "      <th>Target</th>\n",
       "      <th>t_type</th>\n",
       "    </tr>\n",
       "  </thead>\n",
       "  <tbody>\n",
       "    <tr>\n",
       "      <th>0</th>\n",
       "      <td>66294</td>\n",
       "      <td>43</td>\n",
       "      <td>unemployed</td>\n",
       "      <td>married</td>\n",
       "      <td>primary</td>\n",
       "      <td>no</td>\n",
       "      <td>519.0</td>\n",
       "      <td>no</td>\n",
       "      <td>no</td>\n",
       "      <td>unknown</td>\n",
       "      <td>20</td>\n",
       "      <td>jun</td>\n",
       "      <td>973</td>\n",
       "      <td>2</td>\n",
       "      <td>-1</td>\n",
       "      <td>0</td>\n",
       "      <td>unknown</td>\n",
       "      <td>yes</td>\n",
       "      <td>train</td>\n",
       "    </tr>\n",
       "    <tr>\n",
       "      <th>1</th>\n",
       "      <td>46643</td>\n",
       "      <td>26</td>\n",
       "      <td>student</td>\n",
       "      <td>single</td>\n",
       "      <td>unknown</td>\n",
       "      <td>no</td>\n",
       "      <td>689.0</td>\n",
       "      <td>no</td>\n",
       "      <td>no</td>\n",
       "      <td>cellular</td>\n",
       "      <td>25</td>\n",
       "      <td>may</td>\n",
       "      <td>678</td>\n",
       "      <td>2</td>\n",
       "      <td>-1</td>\n",
       "      <td>0</td>\n",
       "      <td>unknown</td>\n",
       "      <td>yes</td>\n",
       "      <td>train</td>\n",
       "    </tr>\n",
       "    <tr>\n",
       "      <th>2</th>\n",
       "      <td>71520</td>\n",
       "      <td>33</td>\n",
       "      <td>admin.</td>\n",
       "      <td>married</td>\n",
       "      <td>secondary</td>\n",
       "      <td>no</td>\n",
       "      <td>616.0</td>\n",
       "      <td>no</td>\n",
       "      <td>no</td>\n",
       "      <td>cellular</td>\n",
       "      <td>6</td>\n",
       "      <td>sep</td>\n",
       "      <td>250</td>\n",
       "      <td>3</td>\n",
       "      <td>-1</td>\n",
       "      <td>0</td>\n",
       "      <td>unknown</td>\n",
       "      <td>yes</td>\n",
       "      <td>train</td>\n",
       "    </tr>\n",
       "    <tr>\n",
       "      <th>3</th>\n",
       "      <td>65327</td>\n",
       "      <td>45</td>\n",
       "      <td>blue-collar</td>\n",
       "      <td>divorced</td>\n",
       "      <td>secondary</td>\n",
       "      <td>no</td>\n",
       "      <td>-184.0</td>\n",
       "      <td>yes</td>\n",
       "      <td>no</td>\n",
       "      <td>cellular</td>\n",
       "      <td>7</td>\n",
       "      <td>may</td>\n",
       "      <td>878</td>\n",
       "      <td>3</td>\n",
       "      <td>170</td>\n",
       "      <td>5</td>\n",
       "      <td>failure</td>\n",
       "      <td>yes</td>\n",
       "      <td>train</td>\n",
       "    </tr>\n",
       "    <tr>\n",
       "      <th>4</th>\n",
       "      <td>24962</td>\n",
       "      <td>63</td>\n",
       "      <td>retired</td>\n",
       "      <td>married</td>\n",
       "      <td>secondary</td>\n",
       "      <td>no</td>\n",
       "      <td>474.0</td>\n",
       "      <td>no</td>\n",
       "      <td>no</td>\n",
       "      <td>cellular</td>\n",
       "      <td>25</td>\n",
       "      <td>jan</td>\n",
       "      <td>423</td>\n",
       "      <td>1</td>\n",
       "      <td>-1</td>\n",
       "      <td>0</td>\n",
       "      <td>unknown</td>\n",
       "      <td>yes</td>\n",
       "      <td>train</td>\n",
       "    </tr>\n",
       "    <tr>\n",
       "      <th>...</th>\n",
       "      <td>...</td>\n",
       "      <td>...</td>\n",
       "      <td>...</td>\n",
       "      <td>...</td>\n",
       "      <td>...</td>\n",
       "      <td>...</td>\n",
       "      <td>...</td>\n",
       "      <td>...</td>\n",
       "      <td>...</td>\n",
       "      <td>...</td>\n",
       "      <td>...</td>\n",
       "      <td>...</td>\n",
       "      <td>...</td>\n",
       "      <td>...</td>\n",
       "      <td>...</td>\n",
       "      <td>...</td>\n",
       "      <td>...</td>\n",
       "      <td>...</td>\n",
       "      <td>...</td>\n",
       "    </tr>\n",
       "    <tr>\n",
       "      <th>36002</th>\n",
       "      <td>902</td>\n",
       "      <td>36</td>\n",
       "      <td>blue-collar</td>\n",
       "      <td>married</td>\n",
       "      <td>basic.6y</td>\n",
       "      <td>no</td>\n",
       "      <td>NaN</td>\n",
       "      <td>no</td>\n",
       "      <td>no</td>\n",
       "      <td>telephone</td>\n",
       "      <td>may</td>\n",
       "      <td>fri</td>\n",
       "      <td>203</td>\n",
       "      <td>5</td>\n",
       "      <td>999</td>\n",
       "      <td>0</td>\n",
       "      <td>nonexistent</td>\n",
       "      <td>NaN</td>\n",
       "      <td>test</td>\n",
       "    </tr>\n",
       "    <tr>\n",
       "      <th>36003</th>\n",
       "      <td>39745</td>\n",
       "      <td>44</td>\n",
       "      <td>services</td>\n",
       "      <td>married</td>\n",
       "      <td>secondary</td>\n",
       "      <td>no</td>\n",
       "      <td>133.0</td>\n",
       "      <td>no</td>\n",
       "      <td>no</td>\n",
       "      <td>cellular</td>\n",
       "      <td>29</td>\n",
       "      <td>jan</td>\n",
       "      <td>202</td>\n",
       "      <td>3</td>\n",
       "      <td>-1</td>\n",
       "      <td>0</td>\n",
       "      <td>unknown</td>\n",
       "      <td>NaN</td>\n",
       "      <td>test</td>\n",
       "    </tr>\n",
       "    <tr>\n",
       "      <th>36004</th>\n",
       "      <td>40150</td>\n",
       "      <td>31</td>\n",
       "      <td>blue-collar</td>\n",
       "      <td>married</td>\n",
       "      <td>basic.9y</td>\n",
       "      <td>no</td>\n",
       "      <td>NaN</td>\n",
       "      <td>yes</td>\n",
       "      <td>no</td>\n",
       "      <td>cellular</td>\n",
       "      <td>jul</td>\n",
       "      <td>wed</td>\n",
       "      <td>590</td>\n",
       "      <td>1</td>\n",
       "      <td>999</td>\n",
       "      <td>0</td>\n",
       "      <td>nonexistent</td>\n",
       "      <td>NaN</td>\n",
       "      <td>test</td>\n",
       "    </tr>\n",
       "    <tr>\n",
       "      <th>36005</th>\n",
       "      <td>6012</td>\n",
       "      <td>43</td>\n",
       "      <td>management</td>\n",
       "      <td>divorced</td>\n",
       "      <td>high.school</td>\n",
       "      <td>no</td>\n",
       "      <td>NaN</td>\n",
       "      <td>yes</td>\n",
       "      <td>no</td>\n",
       "      <td>cellular</td>\n",
       "      <td>nov</td>\n",
       "      <td>mon</td>\n",
       "      <td>488</td>\n",
       "      <td>2</td>\n",
       "      <td>999</td>\n",
       "      <td>0</td>\n",
       "      <td>nonexistent</td>\n",
       "      <td>NaN</td>\n",
       "      <td>test</td>\n",
       "    </tr>\n",
       "    <tr>\n",
       "      <th>36006</th>\n",
       "      <td>61584</td>\n",
       "      <td>29</td>\n",
       "      <td>services</td>\n",
       "      <td>single</td>\n",
       "      <td>high.school</td>\n",
       "      <td>no</td>\n",
       "      <td>NaN</td>\n",
       "      <td>yes</td>\n",
       "      <td>no</td>\n",
       "      <td>telephone</td>\n",
       "      <td>may</td>\n",
       "      <td>thu</td>\n",
       "      <td>93</td>\n",
       "      <td>1</td>\n",
       "      <td>999</td>\n",
       "      <td>0</td>\n",
       "      <td>nonexistent</td>\n",
       "      <td>NaN</td>\n",
       "      <td>test</td>\n",
       "    </tr>\n",
       "  </tbody>\n",
       "</table>\n",
       "<p>36007 rows × 19 columns</p>\n",
       "</div>"
      ],
      "text/plain": [
       "          id  age          job   marital    education default  balance  \\\n",
       "0      66294   43   unemployed   married      primary      no    519.0   \n",
       "1      46643   26      student    single      unknown      no    689.0   \n",
       "2      71520   33       admin.   married    secondary      no    616.0   \n",
       "3      65327   45  blue-collar  divorced    secondary      no   -184.0   \n",
       "4      24962   63      retired   married    secondary      no    474.0   \n",
       "...      ...  ...          ...       ...          ...     ...      ...   \n",
       "36002    902   36  blue-collar   married     basic.6y      no      NaN   \n",
       "36003  39745   44     services   married    secondary      no    133.0   \n",
       "36004  40150   31  blue-collar   married     basic.9y      no      NaN   \n",
       "36005   6012   43   management  divorced  high.school      no      NaN   \n",
       "36006  61584   29     services    single  high.school      no      NaN   \n",
       "\n",
       "      housing loan    contact  day month  duration  campaign  pdays  previous  \\\n",
       "0          no   no    unknown   20   jun       973         2     -1         0   \n",
       "1          no   no   cellular   25   may       678         2     -1         0   \n",
       "2          no   no   cellular    6   sep       250         3     -1         0   \n",
       "3         yes   no   cellular    7   may       878         3    170         5   \n",
       "4          no   no   cellular   25   jan       423         1     -1         0   \n",
       "...       ...  ...        ...  ...   ...       ...       ...    ...       ...   \n",
       "36002      no   no  telephone  may   fri       203         5    999         0   \n",
       "36003      no   no   cellular   29   jan       202         3     -1         0   \n",
       "36004     yes   no   cellular  jul   wed       590         1    999         0   \n",
       "36005     yes   no   cellular  nov   mon       488         2    999         0   \n",
       "36006     yes   no  telephone  may   thu        93         1    999         0   \n",
       "\n",
       "          poutcome Target t_type  \n",
       "0          unknown    yes  train  \n",
       "1          unknown    yes  train  \n",
       "2          unknown    yes  train  \n",
       "3          failure    yes  train  \n",
       "4          unknown    yes  train  \n",
       "...            ...    ...    ...  \n",
       "36002  nonexistent    NaN   test  \n",
       "36003      unknown    NaN   test  \n",
       "36004  nonexistent    NaN   test  \n",
       "36005  nonexistent    NaN   test  \n",
       "36006  nonexistent    NaN   test  \n",
       "\n",
       "[36007 rows x 19 columns]"
      ]
     },
     "execution_count": 499,
     "metadata": {},
     "output_type": "execute_result"
    }
   ],
   "source": [
    "df"
   ]
  },
  {
   "cell_type": "markdown",
   "id": "a4d3cd02",
   "metadata": {},
   "source": [
    "## Dealing with null values first\n"
   ]
  },
  {
   "cell_type": "code",
   "execution_count": 500,
   "id": "dc385f46",
   "metadata": {
    "scrolled": true
   },
   "outputs": [],
   "source": [
    "jobs_salary = dict(df.balance.groupby(df.job).mean())\n",
    "jobs_salary.pop('unknown')\n",
    "for job in jobs_salary:\n",
    "    df.loc[df.job == job,'balance'] = df.loc[df.job == job,'balance'].fillna(jobs_salary[job])\n",
    "df.balance.fillna(df.balance.mean(),inplace=True)"
   ]
  },
  {
   "cell_type": "markdown",
   "id": "20a764cb",
   "metadata": {},
   "source": [
    "### Filling null values in balance column by take the mean for each job and fill it by its job.\n",
    "----\n",
    "# education\n"
   ]
  },
  {
   "cell_type": "code",
   "execution_count": 501,
   "id": "25832ec4",
   "metadata": {},
   "outputs": [],
   "source": [
    "df.loc[df['education'] == 'professional.course', 'education'] = 'tertiary'\n",
    "df.loc[df['education'] == 'basic.6y', 'education'] = 'secondary'\n",
    "df.loc[df['education'] == 'basic.9y', 'education'] = 'secondary'\n",
    "df.loc[df['education'] == 'basic.4y', 'education'] = 'primary'\n",
    "df.loc[df['education'] == 'high.school', 'education'] = 'secondary'\n",
    "df.loc[df['education'] == 'university.degree', 'education'] = 'tertiary'\n"
   ]
  },
  {
   "cell_type": "markdown",
   "id": "282c5cbf",
   "metadata": {},
   "source": [
    "# Education "
   ]
  },
  {
   "cell_type": "code",
   "execution_count": 502,
   "id": "7deb8701",
   "metadata": {},
   "outputs": [],
   "source": [
    "df.loc[(df.age <= 20) & (df.marital == 'unknown') ,'education'] = 'primary'\n",
    "df.loc[(df.age <= 30) & (df.marital == 'unknown') ,'education'] = 'secondary'\n",
    "df.loc[(df.age > 30) & (df.marital == 'unknown') ,'education'] = 'tertiary'"
   ]
  },
  {
   "cell_type": "markdown",
   "id": "24dd7f72",
   "metadata": {},
   "source": [
    "# marital \n",
    "### fill unknown values by:\n",
    " 1- If age is less than **30** after that marital status will be **single**.\n",
    " \n",
    " 2- If Age is greater than **30** and have housing is yes marital status will be **married**.\n",
    " \n",
    " 3- else marital status will be **married**."
   ]
  },
  {
   "cell_type": "code",
   "execution_count": 503,
   "id": "945be6a3",
   "metadata": {},
   "outputs": [],
   "source": [
    "df.loc[(df.age < 30) & (df.marital == 'unknown'),'marital'] = 'single'\n",
    "df.loc[(df.age > 30) & (df.housing == 'yes') & (df.marital == 'unknown') ,'marital'] = 'married'\n",
    "df.loc[(df.marital == 'unknown'),'marital'] = 'married'"
   ]
  },
  {
   "cell_type": "markdown",
   "id": "1fdde2b4",
   "metadata": {},
   "source": [
    "## Feature Engineering:\n",
    "\n",
    "I do not care about if the customer has housing loan or other I am care about how many loan. so we can make feature engineering between two columns housing and loan as following:\n",
    "\n",
    "1- if housing = yes and loan= no *or* housing = no and loan= yes *or* housing = yes and loan= unkown *or* housing = unknown and loan= yes  then number of loans are 1.\n",
    "\n",
    "2- if housing = no and loan= no *or* housing = unknown and loan= no *or* housing = no and loan= unknown then number of loans are 0.\n",
    "\n",
    "3- if housing = yes and loan= yes then number of loans are 2.\n",
    "\n",
    "4- if housing = unkown and loan = unknown then number of loans are -1\n",
    "# Housing & loans"
   ]
  },
  {
   "cell_type": "code",
   "execution_count": 504,
   "id": "e09b317d",
   "metadata": {},
   "outputs": [],
   "source": [
    "df.loc[(df['housing'] == 'yes') & (df['loan'] == 'yes'), 'number_of_loan'] = 2\n",
    "df.loc[(df['housing'] == 'yes') & (df['loan'] == 'no'), 'number_of_loan'] = 1\n",
    "df.loc[(df['housing'] == 'yes') & (df['loan'] == 'unknown'), 'number_of_loan'] = 1\n",
    "df.loc[(df['housing'] == 'no') & (df['loan'] == 'yes'), 'number_of_loan'] = 1\n",
    "df.loc[(df['housing'] == 'no') & (df['loan'] == 'no'), 'number_of_loan'] = 0\n",
    "df.loc[(df['housing'] == 'no') & (df['loan'] == 'unknown'), 'number_of_loan'] = 0\n",
    "df.loc[(df['housing'] == 'yes') & (df['loan'] == 'unknown'), 'number_of_loan'] =1\n",
    "df.loc[(df['housing'] == 'unknown') & (df['loan'] == 'no'), 'number_of_loan'] =0\n",
    "df.loc[(df['housing'] == 'unknown') & (df['loan'] == 'unknown'), 'number_of_loan'] =-1"
   ]
  },
  {
   "cell_type": "markdown",
   "id": "ed44f49a",
   "metadata": {},
   "source": [
    "# 🚸<span style=\"color:red\">Dangerous</span>.🚸\n",
    "\n",
    "## 🚩 The following code should run one time and only one.\n",
    "### the main point of this code is shift cells between month and day columns..\n",
    "\n",
    "# Days & Month"
   ]
  },
  {
   "cell_type": "code",
   "execution_count": 505,
   "id": "2b3a5ebf",
   "metadata": {},
   "outputs": [],
   "source": [
    "\n",
    "outDays = [ x for x in df.day.unique() if not x.isdigit()]\n",
    "for i in outDays:\n",
    "    condition = df.day == i\n",
    "    temp = df.loc[condition,'day']\n",
    "    \n",
    "    df.loc[condition,'day'] = df.loc[condition,'month']\n",
    "    df.loc[condition,'month'] = temp"
   ]
  },
  {
   "cell_type": "code",
   "execution_count": 506,
   "id": "aab2d387",
   "metadata": {},
   "outputs": [
    {
     "name": "stdout",
     "output_type": "stream",
     "text": [
      "['thu', 'fri', 'wed', 'mon', 'tue']\n"
     ]
    }
   ],
   "source": [
    "NotNumaricDays = [ x for x in df.day.unique() if not x.isdigit()]\n",
    "print(NotNumaricDays)\n",
    "for day in range(len(NotNumaricDays)):\n",
    "    df.day.replace(NotNumaricDays[day],str(day+1),inplace=True)"
   ]
  },
  {
   "cell_type": "markdown",
   "id": "da4f7fcc",
   "metadata": {},
   "source": [
    "### Hint!!! when number of loans is -1 the majourty class is **NO**\n",
    "# Age"
   ]
  },
  {
   "cell_type": "code",
   "execution_count": 507,
   "id": "dedc4b3a",
   "metadata": {},
   "outputs": [],
   "source": [
    "def ageRanges(age):\n",
    "    if age <= 24:\n",
    "        return 'Teenager'\n",
    "    elif age <=60:\n",
    "        return 'middle-aged'\n",
    "    return 'senior'"
   ]
  },
  {
   "cell_type": "code",
   "execution_count": 508,
   "id": "35a4e9ae",
   "metadata": {},
   "outputs": [],
   "source": [
    "df['age'] = df.age.apply(lambda x:ageRanges(int(x)))"
   ]
  },
  {
   "cell_type": "code",
   "execution_count": 509,
   "id": "5d499b1c",
   "metadata": {},
   "outputs": [],
   "source": [
    "df.drop(labels=['housing','loan','duration','day'],axis=1,inplace=True)#duration"
   ]
  },
  {
   "cell_type": "markdown",
   "id": "88a4bf24",
   "metadata": {},
   "source": [
    "# pDays \n",
    " - if pdays => 1 value will be called\n",
    " \n",
    " - if pdays == -1 value will be not-called"
   ]
  },
  {
   "cell_type": "code",
   "execution_count": 510,
   "id": "ddb8c259",
   "metadata": {},
   "outputs": [],
   "source": [
    "def pdayConverter(pday):\n",
    "    if pday >0:\n",
    "        return 'called'\n",
    "    return 'not-called'\n",
    "df['pdays'] =df.pdays.apply(lambda x:pdayConverter(x))"
   ]
  },
  {
   "cell_type": "markdown",
   "id": "9fdc90a0",
   "metadata": {},
   "source": [
    "# Job\n",
    "- replace each unknown cell with the major job in job column "
   ]
  },
  {
   "cell_type": "code",
   "execution_count": 511,
   "id": "a57c4965",
   "metadata": {},
   "outputs": [],
   "source": [
    "df.replace('unknown',pd.Series.mode(df.job),inplace=True)"
   ]
  },
  {
   "cell_type": "code",
   "execution_count": null,
   "id": "7712c96b",
   "metadata": {},
   "outputs": [],
   "source": []
  },
  {
   "cell_type": "markdown",
   "id": "9724be0d",
   "metadata": {},
   "source": [
    "# Modeling "
   ]
  },
  {
   "cell_type": "code",
   "execution_count": 512,
   "id": "621a74f2",
   "metadata": {},
   "outputs": [],
   "source": [
    "from sklearn.metrics import f1_score,classification_report,confusion_matrix\n",
    "from sklearn.preprocessing import LabelEncoder\n",
    "from sklearn.model_selection import train_test_split,GridSearchCV\n",
    "from sklearn.ensemble import RandomForestClassifier\n",
    "from imblearn.combine import SMOTETomek\n",
    "import xgboost as xgb\n",
    "#!pip install xgboost\n"
   ]
  },
  {
   "cell_type": "code",
   "execution_count": 513,
   "id": "866716e6",
   "metadata": {},
   "outputs": [],
   "source": [
    "# Encoder\n",
    "for col in df.columns:\n",
    "    L = LabelEncoder()\n",
    "    if col not in ['id','balance','campaign','previous','Target','t_type','number_of_loan']:\n",
    "        df[col] = L.fit_transform(df[col])\n",
    "\n",
    "    "
   ]
  },
  {
   "cell_type": "code",
   "execution_count": 514,
   "id": "6f61f58b",
   "metadata": {},
   "outputs": [],
   "source": [
    "train = df[df.t_type == 'train'][['age','job','marital','education','default','balance','contact','month','campaign','pdays','previous','poutcome','number_of_loan','Target']]\n",
    "test = df[df.t_type == 'test'][['id','age','job','marital','education','default','balance','contact','month','campaign','pdays','previous','poutcome','number_of_loan']]"
   ]
  },
  {
   "cell_type": "code",
   "execution_count": 515,
   "id": "be068a38",
   "metadata": {},
   "outputs": [],
   "source": [
    "# Separate the target variable from the features\n",
    "X = train.drop(columns=['Target'])\n",
    "y = train['Target']\n",
    "\n",
    "y = y.map({'yes': 1, 'no': 0})\n",
    "\n",
    "X_train, X_test, y_train, y_test = train_test_split(X, y, test_size=0.3, random_state=42)\n",
    "\n",
    "\n",
    "# Calculate class weights based on the class distribution\n",
    "class_ratio = sum(y_train ==0) / sum(y_train == 1)\n",
    "\n",
    "\n",
    "# Train a machine learning model (e.g., Random Forest) on the resampled data\n",
    "xgb_model = xgb.XGBClassifier(n_estimators=100,scale_pos_weight=class_ratio, max_depth=15, random_state=42)\n",
    "xgb_model.fit(X_train, y_train)\n",
    "y_pred = xgb_model.predict(X_test)\n",
    "\n"
   ]
  },
  {
   "cell_type": "code",
   "execution_count": 516,
   "id": "6b1e31ce",
   "metadata": {},
   "outputs": [
    {
     "name": "stdout",
     "output_type": "stream",
     "text": [
      "F1-Score: 0.659400544959128\n",
      "Classification Report:\n",
      "              precision    recall  f1-score   support\n",
      "\n",
      "           0       0.65      0.71      0.68      1848\n",
      "           1       0.69      0.63      0.66      1920\n",
      "\n",
      "    accuracy                           0.67      3768\n",
      "   macro avg       0.67      0.67      0.67      3768\n",
      "weighted avg       0.67      0.67      0.67      3768\n",
      "\n",
      "Confusion Matrix:\n",
      "[[1308  540]\n",
      " [ 710 1210]]\n"
     ]
    }
   ],
   "source": [
    "# Evaluate the model on the test set\n",
    "f1 = f1_score(y_test, y_pred,pos_label=1)\n",
    "print(\"F1-Score:\", f1)\n",
    "\n",
    "print(\"Classification Report:\")\n",
    "print(classification_report(y_test, y_pred))\n",
    "\n",
    "print(\"Confusion Matrix:\")\n",
    "print(confusion_matrix(y_test, y_pred))"
   ]
  },
  {
   "cell_type": "code",
   "execution_count": 518,
   "id": "6493814e",
   "metadata": {},
   "outputs": [],
   "source": [
    "y_pred = xgb_model.predict(test.iloc[:,1:])\n",
    "SampleSubmition=pd.read_csv(\"Sample_Submition.csv\")\n",
    "SampleSubmition['Target']=y_pred\n",
    "SampleSubmition.to_csv('Sample_Submition2.1.csv', index=False)"
   ]
  }
 ],
 "metadata": {
  "kernelspec": {
   "display_name": "Python 3 (ipykernel)",
   "language": "python",
   "name": "python3"
  },
  "language_info": {
   "codemirror_mode": {
    "name": "ipython",
    "version": 3
   },
   "file_extension": ".py",
   "mimetype": "text/x-python",
   "name": "python",
   "nbconvert_exporter": "python",
   "pygments_lexer": "ipython3",
   "version": "3.9.7"
  }
 },
 "nbformat": 4,
 "nbformat_minor": 5
}
