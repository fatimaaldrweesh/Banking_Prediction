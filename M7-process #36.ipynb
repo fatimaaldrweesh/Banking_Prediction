{
 "cells": [
  {
   "cell_type": "code",
   "execution_count": 2,
   "id": "f892398e",
   "metadata": {},
   "outputs": [],
   "source": [
    "import pandas as pd\n",
    "import numpy as np\n",
    "import matplotlib.pyplot as plt\n",
    "import seaborn as sns \n",
    "from sklearn.model_selection import train_test_split\n",
    "from sklearn.metrics import mean_squared_error, r2_score,f1_score\n",
    "from sklearn.ensemble import GradientBoostingRegressor,BaggingClassifier,RandomForestRegressor ,RandomForestClassifier\n",
    "from sklearn.tree import DecisionTreeClassifier\n",
    "from sklearn.datasets import make_classification\n",
    "from sklearn.model_selection import GridSearchCV\n",
    "import xgboost as xgb\n",
    "import warnings \n",
    "warnings.filterwarnings(\"ignore\")\n",
    "from imblearn.over_sampling import RandomOverSampler, SMOTE, SMOTENC\n",
    "from imblearn.under_sampling import RandomUnderSampler, NearMiss, TomekLinks, EditedNearestNeighbours\n",
    "from imblearn.combine import SMOTETomek, SMOTEENN\n",
    "from scipy.stats import chi2_contingency\n",
    "from sklearn.metrics import accuracy_score, classification_report, confusion_matrix\n",
    "#---------------\n",
    "from time import time\n",
    "import numpy as np\n",
    "import pandas as pd\n",
    "import matplotlib.pyplot as plt\n",
    "from mpl_toolkits.mplot3d.axes3d import Axes3D\n",
    "from sklearn import (manifold, datasets, decomposition, ensemble, random_projection)\n",
    "from sklearn.discriminant_analysis import LinearDiscriminantAnalysis as LDA\n",
    "\n",
    "from sklearn.preprocessing import LabelEncoder"
   ]
  },
  {
   "cell_type": "code",
   "execution_count": 3,
   "id": "cd8c4024",
   "metadata": {},
   "outputs": [
    {
     "data": {
      "text/html": [
       "<div>\n",
       "<style scoped>\n",
       "    .dataframe tbody tr th:only-of-type {\n",
       "        vertical-align: middle;\n",
       "    }\n",
       "\n",
       "    .dataframe tbody tr th {\n",
       "        vertical-align: top;\n",
       "    }\n",
       "\n",
       "    .dataframe thead th {\n",
       "        text-align: right;\n",
       "    }\n",
       "</style>\n",
       "<table border=\"1\" class=\"dataframe\">\n",
       "  <thead>\n",
       "    <tr style=\"text-align: right;\">\n",
       "      <th></th>\n",
       "      <th>Unnamed: 0</th>\n",
       "      <th>id</th>\n",
       "      <th>age</th>\n",
       "      <th>job</th>\n",
       "      <th>marital</th>\n",
       "      <th>education</th>\n",
       "      <th>default</th>\n",
       "      <th>balance</th>\n",
       "      <th>housing</th>\n",
       "      <th>loan</th>\n",
       "      <th>contact</th>\n",
       "      <th>day</th>\n",
       "      <th>month</th>\n",
       "      <th>duration</th>\n",
       "      <th>campaign</th>\n",
       "      <th>pdays</th>\n",
       "      <th>previous</th>\n",
       "      <th>poutcome</th>\n",
       "      <th>Target</th>\n",
       "    </tr>\n",
       "  </thead>\n",
       "  <tbody>\n",
       "    <tr>\n",
       "      <th>0</th>\n",
       "      <td>56963</td>\n",
       "      <td>31963</td>\n",
       "      <td>47</td>\n",
       "      <td>blue-collar</td>\n",
       "      <td>married</td>\n",
       "      <td>basic.9y</td>\n",
       "      <td>no</td>\n",
       "      <td>NaN</td>\n",
       "      <td>no</td>\n",
       "      <td>yes</td>\n",
       "      <td>cellular</td>\n",
       "      <td>apr</td>\n",
       "      <td>fri</td>\n",
       "      <td>583</td>\n",
       "      <td>2</td>\n",
       "      <td>999</td>\n",
       "      <td>1</td>\n",
       "      <td>failure</td>\n",
       "      <td>no</td>\n",
       "    </tr>\n",
       "  </tbody>\n",
       "</table>\n",
       "</div>"
      ],
      "text/plain": [
       "   Unnamed: 0     id  age          job  marital education default  balance  \\\n",
       "0       56963  31963   47  blue-collar  married  basic.9y      no      NaN   \n",
       "\n",
       "  housing loan   contact  day month  duration  campaign  pdays  previous  \\\n",
       "0      no  yes  cellular  apr   fri       583         2    999         1   \n",
       "\n",
       "  poutcome Target  \n",
       "0  failure     no  "
      ]
     },
     "execution_count": 3,
     "metadata": {},
     "output_type": "execute_result"
    }
   ],
   "source": [
    "train = pd.read_csv(\"Train-Set.csv\")\n",
    "test = pd.read_csv(\"Test-Set.csv\")\n",
    "train.head(1)\n"
   ]
  },
  {
   "cell_type": "code",
   "execution_count": 4,
   "id": "e6ae572d",
   "metadata": {},
   "outputs": [],
   "source": [
    "train['t_type'] = 'train'\n",
    "test['t_type'] = 'test'\n",
    "\n",
    "df = train.append(test, ignore_index=True)"
   ]
  },
  {
   "cell_type": "code",
   "execution_count": 5,
   "id": "35777a56",
   "metadata": {},
   "outputs": [
    {
     "data": {
      "text/plain": [
       "['job',\n",
       " 'marital',\n",
       " 'education',\n",
       " 'default',\n",
       " 'housing',\n",
       " 'loan',\n",
       " 'contact',\n",
       " 'poutcome']"
      ]
     },
     "execution_count": 5,
     "metadata": {},
     "output_type": "execute_result"
    }
   ],
   "source": [
    "def unknown(data_frame):\n",
    "    columns = data_frame.columns\n",
    "\n",
    "    presence_list = []\n",
    "    for i in columns:\n",
    "        if 'unknown' in data_frame[i].unique():\n",
    "            presence_list.append(i)\n",
    "    return presence_list\n",
    "\n",
    "unknowns = unknown(df)\n",
    "unknowns"
   ]
  },
  {
   "cell_type": "code",
   "execution_count": 6,
   "id": "17e4593c",
   "metadata": {},
   "outputs": [
    {
     "name": "stdout",
     "output_type": "stream",
     "text": [
      "<class 'pandas.core.frame.DataFrame'>\n",
      "RangeIndex: 78161 entries, 0 to 78160\n",
      "Data columns (total 20 columns):\n",
      " #   Column      Non-Null Count  Dtype  \n",
      "---  ------      --------------  -----  \n",
      " 0   Unnamed: 0  78161 non-null  int64  \n",
      " 1   id          78161 non-null  int64  \n",
      " 2   age         78161 non-null  int64  \n",
      " 3   job         78161 non-null  object \n",
      " 4   marital     78161 non-null  object \n",
      " 5   education   78161 non-null  object \n",
      " 6   default     78161 non-null  object \n",
      " 7   balance     45211 non-null  float64\n",
      " 8   housing     78161 non-null  object \n",
      " 9   loan        78161 non-null  object \n",
      " 10  contact     78161 non-null  object \n",
      " 11  day         78161 non-null  object \n",
      " 12  month       78161 non-null  object \n",
      " 13  duration    78161 non-null  int64  \n",
      " 14  campaign    78161 non-null  int64  \n",
      " 15  pdays       78161 non-null  int64  \n",
      " 16  previous    78161 non-null  int64  \n",
      " 17  poutcome    78161 non-null  object \n",
      " 18  Target      54712 non-null  object \n",
      " 19  t_type      78161 non-null  object \n",
      "dtypes: float64(1), int64(7), object(12)\n",
      "memory usage: 11.9+ MB\n"
     ]
    }
   ],
   "source": [
    "df.info()"
   ]
  },
  {
   "cell_type": "code",
   "execution_count": 7,
   "id": "df040ece",
   "metadata": {},
   "outputs": [
    {
     "name": "stdout",
     "output_type": "stream",
     "text": [
      "JOB \n",
      "=========================================\n",
      "0.7075139775591407%\n",
      "\n",
      "\n",
      "\n",
      "MARITAL \n",
      "=========================================\n",
      "0.08316167909827152%\n",
      "\n",
      "\n",
      "\n",
      "EDUCATION \n",
      "=========================================\n",
      "4.163201596704239%\n",
      "\n",
      "\n",
      "\n",
      "DEFAULT \n",
      "=========================================\n",
      "8.879108506800067%\n",
      "\n",
      "\n",
      "\n",
      "HOUSING \n",
      "=========================================\n",
      "1.0184107163419098%\n",
      "\n",
      "\n",
      "\n",
      "LOAN \n",
      "=========================================\n",
      "1.0184107163419098%\n",
      "\n",
      "\n",
      "\n",
      "CONTACT \n",
      "=========================================\n",
      "16.657924028607617%\n",
      "\n",
      "\n",
      "\n",
      "POUTCOME \n",
      "=========================================\n",
      "47.285730735277184%\n",
      "\n",
      "\n",
      "\n"
     ]
    }
   ],
   "source": [
    "for i in unknowns:\n",
    "    precentage = len(df[df[i] == 'unknown']) /len(df[i]) * 100\n",
    "    print(i.upper() , f'\\n=========================================\\n{str(precentage)}' + '%' '\\n\\n\\n' )"
   ]
  },
  {
   "cell_type": "code",
   "execution_count": 8,
   "id": "43c3136d",
   "metadata": {},
   "outputs": [],
   "source": [
    "#df.drop(['Unnamed: 0','poutcome','balance','job'],axis=1,inplace=True)"
   ]
  },
  {
   "cell_type": "code",
   "execution_count": 9,
   "id": "d6356582",
   "metadata": {},
   "outputs": [
    {
     "name": "stdout",
     "output_type": "stream",
     "text": [
      "<class 'pandas.core.frame.DataFrame'>\n",
      "RangeIndex: 78161 entries, 0 to 78160\n",
      "Data columns (total 20 columns):\n",
      " #   Column      Non-Null Count  Dtype  \n",
      "---  ------      --------------  -----  \n",
      " 0   Unnamed: 0  78161 non-null  int64  \n",
      " 1   id          78161 non-null  int64  \n",
      " 2   age         78161 non-null  int64  \n",
      " 3   job         78161 non-null  object \n",
      " 4   marital     78161 non-null  object \n",
      " 5   education   78161 non-null  object \n",
      " 6   default     78161 non-null  object \n",
      " 7   balance     45211 non-null  float64\n",
      " 8   housing     78161 non-null  object \n",
      " 9   loan        78161 non-null  object \n",
      " 10  contact     78161 non-null  object \n",
      " 11  day         78161 non-null  object \n",
      " 12  month       78161 non-null  object \n",
      " 13  duration    78161 non-null  int64  \n",
      " 14  campaign    78161 non-null  int64  \n",
      " 15  pdays       78161 non-null  int64  \n",
      " 16  previous    78161 non-null  int64  \n",
      " 17  poutcome    78161 non-null  object \n",
      " 18  Target      54712 non-null  object \n",
      " 19  t_type      78161 non-null  object \n",
      "dtypes: float64(1), int64(7), object(12)\n",
      "memory usage: 11.9+ MB\n"
     ]
    }
   ],
   "source": [
    "df.info()"
   ]
  },
  {
   "cell_type": "code",
   "execution_count": 10,
   "id": "58ecfc47",
   "metadata": {
    "scrolled": false
   },
   "outputs": [
    {
     "name": "stdout",
     "output_type": "stream",
     "text": [
      "<class 'pandas.core.frame.DataFrame'>\n",
      "RangeIndex: 78161 entries, 0 to 78160\n",
      "Data columns (total 20 columns):\n",
      " #   Column      Non-Null Count  Dtype  \n",
      "---  ------      --------------  -----  \n",
      " 0   Unnamed: 0  0 non-null      float64\n",
      " 1   id          0 non-null      float64\n",
      " 2   age         0 non-null      float64\n",
      " 3   job         553 non-null    object \n",
      " 4   marital     65 non-null     object \n",
      " 5   education   3254 non-null   object \n",
      " 6   default     6940 non-null   object \n",
      " 7   balance     0 non-null      float64\n",
      " 8   housing     796 non-null    object \n",
      " 9   loan        796 non-null    object \n",
      " 10  contact     13020 non-null  object \n",
      " 11  day         0 non-null      object \n",
      " 12  month       0 non-null      object \n",
      " 13  duration    0 non-null      float64\n",
      " 14  campaign    0 non-null      float64\n",
      " 15  pdays       0 non-null      float64\n",
      " 16  previous    0 non-null      float64\n",
      " 17  poutcome    36959 non-null  object \n",
      " 18  Target      0 non-null      object \n",
      " 19  t_type      0 non-null      object \n",
      "dtypes: float64(8), object(12)\n",
      "memory usage: 11.9+ MB\n"
     ]
    }
   ],
   "source": [
    "df[df == 'unknown'].info()"
   ]
  },
  {
   "cell_type": "code",
   "execution_count": 11,
   "id": "7ff59ab9",
   "metadata": {},
   "outputs": [],
   "source": [
    "df.loc[(train['job'] == 'unknown') & (df['age'] > 60), 'job'] = 'retired'\n",
    "df.loc[(train['job'] == 'unknown') & ((df['education'] == 'basic.4y')|(df['education'] == 'basic.6y')|(df['education'] == 'basic.9y')), 'job'] = 'blue-collar'\n",
    "df.loc[(train['job'] == 'unknown') & ((df['education'] == 'secondary')|(df['education'] == 'primary')), 'job'] = 'blue-collar'\n",
    "df.loc[(train['job'] == 'unknown') & (df['education'] == 'tertiary'), 'job'] = 'management'\n",
    "df.loc[(train['job'] == 'unknown') & ((df['education'] == 'high.school')|(df['education'] == 'high.school')), 'job'] = 'admin.'\n",
    "df.loc[(train['job'] == 'unknown') & ((df['education'] == 'professional.course')|(df['education'] == 'tertiary')), 'job'] = 'technician'\n",
    "df.loc[(train['job'] == 'unknown') & (df['age'] < 20), 'job'] = 'student'\n",
    "df.loc[df.job == 'unknown','job'] = pd.Series.mode(df.job)"
   ]
  },
  {
   "cell_type": "code",
   "execution_count": 12,
   "id": "a9f5f662",
   "metadata": {},
   "outputs": [],
   "source": [
    "jobs_salary = dict(df.balance.groupby(df.job).mean())\n",
    "#jobs_salary.pop('unknown')\n",
    "for job in jobs_salary:\n",
    "    df.loc[df.job == job,'balance'] = df.loc[df.job == job,'balance'].fillna(jobs_salary[job])\n",
    "df.balance.fillna(df.balance.mean(),inplace=True)"
   ]
  },
  {
   "cell_type": "code",
   "execution_count": 13,
   "id": "0e5142d7",
   "metadata": {},
   "outputs": [],
   "source": [
    "df.loc[(df.age < 30) & (df.marital == 'unknown'),'marital'] = 'single'\n",
    "df.loc[(df.age > 30) & (df.housing == 'yes') & (df.marital == 'unknown') ,'marital'] = 'married'\n",
    "df.loc[(df.marital == 'unknown'),'marital'] = 'married'"
   ]
  },
  {
   "cell_type": "code",
   "execution_count": 14,
   "id": "eec1f3d4",
   "metadata": {},
   "outputs": [],
   "source": [
    "df.loc[df['poutcome'] == 'other', 'poutcome'] = 'unknown'\n",
    "df.loc[df['poutcome'] == 'nonexistent', 'poutcome'] = 'unknown'"
   ]
  },
  {
   "cell_type": "code",
   "execution_count": 15,
   "id": "e5381253",
   "metadata": {},
   "outputs": [],
   "source": [
    "df.loc[(df['education'] == 'unknown') & (df['job'] == 'admin.'), 'education'] = 'university.degree'\n",
    "df.loc[(df['education'] == 'unknown') & (df['job'] == 'blue-collar'), 'education'] = 'secondary'\n",
    "df.loc[(df['education'] == 'unknown') & (df['job'] == 'technician'), 'education'] = 'secondary'\n",
    "df.loc[(df['education'] == 'unknown') & (df['job'] == 'management'), 'education'] = 'tertiary'\n",
    "df.loc[(df['education'] == 'unknown') & (df['job'] == 'entrepreneur'), 'education'] = 'tertiary'\n",
    "df.loc[(df['education'] == 'unknown') & (df['job'] == 'housemaid'), 'education'] = 'primary'\n",
    "df.loc[(df['education'] == 'unknown') & (df['job'] == 'self-employed'), 'education'] = 'tertiary'\n",
    "df.loc[(df['education'] == 'unknown') & (df['job'] == 'services'), 'education'] = 'secondary'\n",
    "df.loc[(df['education'] == 'unknown') & (df['job'] == 'student'), 'education'] = 'secondary'\n",
    "df.loc[(df['education'] == 'unknown') & (df['job'] == 'unemployed'), 'education'] = 'secondary'\n",
    "df.loc[(df['education'] == 'unknown') & (df['job'] == 'retired'), 'education'] = 'secondary'\n",
    "df.loc[df.education == 'unknown','education'] = pd.Series.mode(df.education)"
   ]
  },
  {
   "cell_type": "code",
   "execution_count": 16,
   "id": "20ecbf47",
   "metadata": {},
   "outputs": [],
   "source": [
    "df.loc[(df.balance < 1000) & (df.default == 'unknown'),'default'] = 'no'\n",
    "df.loc[(df.default == 'unknown'),'default'] = 'yes'"
   ]
  },
  {
   "cell_type": "code",
   "execution_count": 17,
   "id": "e44c086f",
   "metadata": {},
   "outputs": [],
   "source": [
    "df.loc[(df.default == 'no'),'housing'] = 'yes'\n",
    "df.loc[(df.default == 'yes'),'housing'] = 'no'"
   ]
  },
  {
   "cell_type": "code",
   "execution_count": 18,
   "id": "3c570acd",
   "metadata": {},
   "outputs": [],
   "source": [
    "df.loc[(df.default == 'no') & (df.housing =='yes'),'loan'] = 'no'\n",
    "df.loc[(df.default == 'yes') & (df.housing =='no'),'loan'] = 'yes'"
   ]
  },
  {
   "cell_type": "code",
   "execution_count": 19,
   "id": "db06ed76",
   "metadata": {},
   "outputs": [],
   "source": [
    "df.contact.replace({'unknown':pd.NA},inplace=True)\n",
    "df.contact.fillna(method='bfill',inplace=True)"
   ]
  },
  {
   "cell_type": "markdown",
   "id": "ed97f913",
   "metadata": {},
   "source": [
    "---\n",
    "---\n",
    "---"
   ]
  },
  {
   "cell_type": "code",
   "execution_count": 20,
   "id": "14e147d6",
   "metadata": {},
   "outputs": [],
   "source": [
    "bins = [0, 20, 40, 60, 80, 100]\n",
    "labels = ['young', 'adult', 'middle-aged', 'senior', 'elderly']\n",
    "\n",
    "# Create a new categorical column 'age_group' based on the bins\n",
    "df['age'] = pd.cut(df['age'], bins=bins, labels=labels)"
   ]
  },
  {
   "cell_type": "markdown",
   "id": "4afac6f6",
   "metadata": {},
   "source": [
    "## Education "
   ]
  },
  {
   "cell_type": "code",
   "execution_count": 21,
   "id": "bf14560f",
   "metadata": {},
   "outputs": [],
   "source": [
    "df.loc[df.education.isin(['basic.4y','basic.6y','basic.9y']),'education'] = 'custom group'"
   ]
  },
  {
   "cell_type": "markdown",
   "id": "3454386b",
   "metadata": {},
   "source": [
    "# day , month"
   ]
  },
  {
   "cell_type": "code",
   "execution_count": 22,
   "id": "a33b0c17",
   "metadata": {},
   "outputs": [],
   "source": [
    "outDays = [ x for x in df.day.unique() if not x.isdigit()]\n",
    "for i in outDays:\n",
    "    condition = df.day == i\n",
    "    temp = df.loc[condition,'day']\n",
    "    \n",
    "    df.loc[condition,'day'] = df.loc[condition,'month']\n",
    "    df.loc[condition,'month'] = temp\n",
    "# shifting month and day"
   ]
  },
  {
   "cell_type": "code",
   "execution_count": 23,
   "id": "19692143",
   "metadata": {},
   "outputs": [],
   "source": [
    "days = {'1':'mon','2':'tue','3':'wed','4':'thu','5':'fri','6':'sat','7':'sun'}\n",
    "def conv_day(d):\n",
    "    if d.isdigit():\n",
    "        for k in list(days.keys())[::-1]:\n",
    "            if int(d)%int(k) == 0:\n",
    "                return days[k]\n",
    "    return 'mon'\n",
    "df['day'] = df.day.apply(lambda d:conv_day(d))"
   ]
  },
  {
   "cell_type": "code",
   "execution_count": 24,
   "id": "766c8ab9",
   "metadata": {},
   "outputs": [
    {
     "data": {
      "text/plain": [
       "may    24777\n",
       "jul    12658\n",
       "aug    11195\n",
       "jun     9588\n",
       "nov     7236\n",
       "apr     5017\n",
       "feb     2649\n",
       "jan     1403\n",
       "oct     1325\n",
       "sep     1043\n",
       "mar      913\n",
       "dec      357\n",
       "Name: month, dtype: int64"
      ]
     },
     "execution_count": 24,
     "metadata": {},
     "output_type": "execute_result"
    }
   ],
   "source": [
    "df.month.value_counts()"
   ]
  },
  {
   "cell_type": "markdown",
   "id": "43b4fd3a",
   "metadata": {},
   "source": [
    "# we should drop duration"
   ]
  },
  {
   "cell_type": "code",
   "execution_count": 25,
   "id": "d19f0b01",
   "metadata": {},
   "outputs": [],
   "source": [
    "def campaign(x):\n",
    "    if x > 10:\n",
    "        return 'high'\n",
    "    elif x > 5:\n",
    "        return 'mid'\n",
    "    return 'low'\n",
    "df['campaign'] = df.campaign.apply(lambda d: campaign(d))"
   ]
  },
  {
   "cell_type": "code",
   "execution_count": 26,
   "id": "6779e2b1",
   "metadata": {},
   "outputs": [],
   "source": [
    "def rePdays(x):\n",
    "    if x in [-1,999]:\n",
    "        return 'from too long'\n",
    "    elif x > 200:\n",
    "        return 'from short period'\n",
    "    return 'from short time'\n",
    "df['pdays'] = df.pdays.apply(lambda d:rePdays(d))"
   ]
  },
  {
   "cell_type": "code",
   "execution_count": 27,
   "id": "3ada1a41",
   "metadata": {},
   "outputs": [],
   "source": [
    "def rePrevious(p):\n",
    "    if p > 18:\n",
    "        return 'high'\n",
    "    elif p > 10:\n",
    "        return 'mid-high'\n",
    "    elif p >= 1:\n",
    "        return 'low'\n",
    "    return 'No'\n",
    "df['previous'] = df.previous.apply(lambda d:rePrevious(d))"
   ]
  },
  {
   "cell_type": "code",
   "execution_count": 28,
   "id": "e45b256a",
   "metadata": {
    "scrolled": true
   },
   "outputs": [],
   "source": [
    "df.drop(labels = ['Unnamed: 0','duration','poutcome'],axis=1,inplace=True)"
   ]
  },
  {
   "cell_type": "code",
   "execution_count": null,
   "id": "77d0d126",
   "metadata": {},
   "outputs": [],
   "source": [
    "df.to_csv('Full data.csv', index=False)"
   ]
  },
  {
   "cell_type": "markdown",
   "id": "060e3528",
   "metadata": {},
   "source": [
    "# -----------------------------------------------------------------------------------"
   ]
  },
  {
   "cell_type": "code",
   "execution_count": 29,
   "id": "8e6330df",
   "metadata": {},
   "outputs": [],
   "source": [
    "from sklearn.preprocessing import LabelEncoder\n",
    "for col in df:\n",
    "    if col not in ['balance','id','t_type','Target']:\n",
    "        L =LabelEncoder()\n",
    "        df[col] = L.fit_transform(df[col])\n",
    "        \n"
   ]
  },
  {
   "cell_type": "code",
   "execution_count": 30,
   "id": "c959206a",
   "metadata": {},
   "outputs": [],
   "source": [
    "train = df.loc[df.t_type == 'train',].iloc[:,1:-1]"
   ]
  },
  {
   "cell_type": "code",
   "execution_count": 31,
   "id": "646b626d",
   "metadata": {
    "scrolled": true
   },
   "outputs": [],
   "source": [
    "'''# Downsampling function\n",
    "# Downsample the input 'DataFrame' by balancing the class distribution.\n",
    "def returnbalanceData(data,target,min_class):\n",
    "    \n",
    "    classes = dict(data[target].value_counts())\n",
    "    data.reindex()\n",
    "    index = np.array([])\n",
    "    for clas in classes:\n",
    "        class_index = data[data[target] == clas].index\n",
    "        sample=list(np.random.choice(class_index,classes[min_class],replace=False))\n",
    "        \n",
    "        index = np.concatenate((sample,index))\n",
    "        \n",
    "    return data.iloc[index,:]\n",
    "train = returnbalanceData(train,'Target','yes')'''"
   ]
  },
  {
   "cell_type": "code",
   "execution_count": 59,
   "id": "06b107a4",
   "metadata": {},
   "outputs": [],
   "source": [
    "X = train.drop('Target',axis=1).values\n",
    "y = train['Target']\n",
    "y = y.map({'yes': 1, 'no': 0})\n",
    "from sklearn.model_selection import train_test_split\n",
    "X_train, X_test, y_train, y_test = train_test_split(X, y, test_size=0.2, random_state=42)"
   ]
  },
  {
   "cell_type": "code",
   "execution_count": 62,
   "id": "2c5685df",
   "metadata": {},
   "outputs": [],
   "source": [
    "from sklearn.linear_model import LogisticRegression\n",
    "lr = LogisticRegression()\n",
    "lr.fit(X_train,y_train)\n",
    "y_pred = lr.predict(X_test)"
   ]
  },
  {
   "cell_type": "code",
   "execution_count": 63,
   "id": "e8018070",
   "metadata": {},
   "outputs": [
    {
     "name": "stdout",
     "output_type": "stream",
     "text": [
      "              precision    recall  f1-score   support\n",
      "\n",
      "           0       0.59      0.76      0.66      1239\n",
      "           1       0.67      0.48      0.56      1273\n",
      "\n",
      "    accuracy                           0.62      2512\n",
      "   macro avg       0.63      0.62      0.61      2512\n",
      "weighted avg       0.63      0.62      0.61      2512\n",
      "\n"
     ]
    }
   ],
   "source": [
    "from sklearn.metrics import classification_report\n",
    "print(classification_report(y_test,y_pred))"
   ]
  },
  {
   "cell_type": "code",
   "execution_count": 64,
   "id": "9be376d4",
   "metadata": {},
   "outputs": [
    {
     "name": "stdout",
     "output_type": "stream",
     "text": [
      "              precision    recall  f1-score   support\n",
      "\n",
      "           0       0.60      0.89      0.71      1239\n",
      "           1       0.80      0.41      0.54      1273\n",
      "\n",
      "    accuracy                           0.65      2512\n",
      "   macro avg       0.70      0.65      0.63      2512\n",
      "weighted avg       0.70      0.65      0.63      2512\n",
      "\n"
     ]
    }
   ],
   "source": [
    "from sklearn.tree import DecisionTreeClassifier\n",
    "dt = DecisionTreeClassifier(criterion=\"gini\", random_state=42,max_depth=3, min_samples_leaf=5)\n",
    "dt.fit(X_train,y_train)\n",
    "y_pred = dt.predict(X_test)\n",
    "print(classification_report(y_test,y_pred))"
   ]
  },
  {
   "cell_type": "code",
   "execution_count": 65,
   "id": "ebc9c1cb",
   "metadata": {},
   "outputs": [
    {
     "data": {
      "text/plain": [
       "array([0, 0, 0, ..., 0, 0, 0], dtype=int64)"
      ]
     },
     "execution_count": 65,
     "metadata": {},
     "output_type": "execute_result"
    }
   ],
   "source": [
    "test = df.loc[df.t_type == 'test',].iloc[:,:-2]\n",
    "pred = svm.predict(test.iloc[:,1:])\n"
   ]
  },
  {
   "cell_type": "code",
   "execution_count": 66,
   "id": "4c6c34bd",
   "metadata": {},
   "outputs": [],
   "source": [
    "submission =pd.read_csv('Sample_Submition.csv')\n",
    "# Create a submisison dataframe and append the relevant columns\n",
    "submission = pd.DataFrame()\n",
    "submission['id'] = test['id']\n",
    "submission['Target'] =pred # our model predictions on the test dataset\n",
    "submission.to_csv('Asubmission.csv', index=False)"
   ]
  },
  {
   "cell_type": "code",
   "execution_count": null,
   "id": "9b858ddb",
   "metadata": {},
   "outputs": [],
   "source": [
    "from sklearn.svm import SVC\n",
    "grid = {\n",
    "   'C':[0.01,0.1,1,10],\n",
    "   'kernel' : [\"linear\",\"poly\",\"rbf\",\"sigmoid\"],\n",
    "   'degree' : [1,2,3,5,7],\n",
    "   'gamma' : [0.01,1,0.001]\n",
    "}\n",
    "svm  = SVC ()\n",
    "# GridSearchCV is a useful tool to fine tune the parameters of your model.\n",
    "# The “best” parameters that GridSearchCV identifies are technically the best that could be produced\n",
    "svm_cv = GridSearchCV(svm, grid, cv = 5)\n",
    "svm_cv.fit(X_train,y_train)\n",
    "print(\"Best Parameters:\",svm_cv.best_params_)\n",
    "print(\"Train Score:\",svm_cv.best_score_)\n",
    "print(\"Test Score:\",svm_cv.score(X_test,y_test))"
   ]
  },
  {
   "cell_type": "code",
   "execution_count": 76,
   "id": "5c25e2a8",
   "metadata": {},
   "outputs": [
    {
     "name": "stdout",
     "output_type": "stream",
     "text": [
      "Test Score: 0.6486817903126917\n"
     ]
    }
   ],
   "source": [
    "from sklearn.svm import SVC\n",
    "svm  = SVC (C=0.01,kernel='rbf',degree = 2,gamma=0.01)\n",
    "svm.fit(X_train,y_train)\n",
    "print(\"Test Score:\",f1_score(y_test,svm.predict(X_test)))"
   ]
  },
  {
   "cell_type": "code",
   "execution_count": 79,
   "id": "9ea7e833",
   "metadata": {},
   "outputs": [
    {
     "ename": "ValueError",
     "evalue": "The truth value of an array with more than one element is ambiguous. Use a.any() or a.all()",
     "output_type": "error",
     "traceback": [
      "\u001b[1;31m---------------------------------------------------------------------------\u001b[0m",
      "\u001b[1;31mValueError\u001b[0m                                Traceback (most recent call last)",
      "\u001b[1;32m~\\AppData\\Local\\Temp/ipykernel_12296/2335734020.py\u001b[0m in \u001b[0;36m<module>\u001b[1;34m\u001b[0m\n\u001b[0;32m      1\u001b[0m \u001b[0mpred\u001b[0m \u001b[1;33m=\u001b[0m \u001b[0msvm\u001b[0m\u001b[1;33m.\u001b[0m\u001b[0mpredict\u001b[0m\u001b[1;33m(\u001b[0m\u001b[0mtest\u001b[0m\u001b[1;33m.\u001b[0m\u001b[0miloc\u001b[0m\u001b[1;33m[\u001b[0m\u001b[1;33m:\u001b[0m\u001b[1;33m,\u001b[0m\u001b[1;36m1\u001b[0m\u001b[1;33m:\u001b[0m\u001b[1;33m]\u001b[0m\u001b[1;33m)\u001b[0m\u001b[1;33m\u001b[0m\u001b[1;33m\u001b[0m\u001b[0m\n\u001b[1;32m----> 2\u001b[1;33m \u001b[0mpred\u001b[0m \u001b[1;32mand\u001b[0m \u001b[1;36m0\u001b[0m\u001b[1;33m\u001b[0m\u001b[1;33m\u001b[0m\u001b[0m\n\u001b[0m",
      "\u001b[1;31mValueError\u001b[0m: The truth value of an array with more than one element is ambiguous. Use a.any() or a.all()"
     ]
    }
   ],
   "source": [
    "pred = svm.predict(test.iloc[:,1:])\n"
   ]
  },
  {
   "cell_type": "code",
   "execution_count": 78,
   "id": "0cedcb21",
   "metadata": {},
   "outputs": [],
   "source": [
    "submission =pd.read_csv('Sample_Submition.csv')\n",
    "# Create a submisison dataframe and append the relevant columns\n",
    "submission = pd.DataFrame()\n",
    "submission['id'] = test['id']\n",
    "submission['Target'] =pred # our model predictions on the test dataset\n",
    "submission.to_csv('Asubmission.csv', index=False)"
   ]
  },
  {
   "cell_type": "code",
   "execution_count": 83,
   "id": "757e4006",
   "metadata": {},
   "outputs": [],
   "source": [
    "submission['Target'] = submission.Target.apply(lambda X: 0 if X==1 else 1)"
   ]
  },
  {
   "cell_type": "code",
   "execution_count": 84,
   "id": "dbc86ce2",
   "metadata": {},
   "outputs": [],
   "source": [
    "submission.to_csv('Asubmission.csv', index=False)"
   ]
  }
 ],
 "metadata": {
  "kernelspec": {
   "display_name": "Python 3 (ipykernel)",
   "language": "python",
   "name": "python3"
  },
  "language_info": {
   "codemirror_mode": {
    "name": "ipython",
    "version": 3
   },
   "file_extension": ".py",
   "mimetype": "text/x-python",
   "name": "python",
   "nbconvert_exporter": "python",
   "pygments_lexer": "ipython3",
   "version": "3.9.7"
  }
 },
 "nbformat": 4,
 "nbformat_minor": 5
}
